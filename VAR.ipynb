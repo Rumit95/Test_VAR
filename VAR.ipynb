{
 "cells": [
  {
   "cell_type": "markdown",
   "id": "0587d847",
   "metadata": {},
   "source": [
    "Data Cleaning"
   ]
  },
  {
   "cell_type": "code",
   "execution_count": 1,
   "id": "a9f14dd5",
   "metadata": {},
   "outputs": [],
   "source": [
    "import numpy as np\n",
    "import pandas as pd\n",
    "import matplotlib.pyplot as plt\n",
    "import seaborn as sns\n",
    "import warnings\n",
    "warnings.filterwarnings('ignore')"
   ]
  },
  {
   "cell_type": "code",
   "execution_count": 4,
   "id": "bb895bcf",
   "metadata": {},
   "outputs": [],
   "source": [
    "df=pd.read_excel(\"Losses.xlsx\")"
   ]
  },
  {
   "cell_type": "code",
   "execution_count": 5,
   "id": "988a9752",
   "metadata": {},
   "outputs": [],
   "source": [
    "df['DATE'] = df[['DAY','MONTH_ID','YEAR']].apply(lambda x: '-'.join(x.values.astype(str)), axis=\"columns\")"
   ]
  },
  {
   "cell_type": "code",
   "execution_count": 11,
   "id": "b43a6851",
   "metadata": {},
   "outputs": [],
   "source": [
    "df['DATE']=pd.to_datetime(df['DATE'],format='mixed',dayfirst=True)"
   ]
  },
  {
   "cell_type": "code",
   "execution_count": 16,
   "id": "a0ab0f28",
   "metadata": {},
   "outputs": [],
   "source": [
    "df.drop(df[['DAY','MONTH','MONTH_ID','YEAR']],axis=1,inplace=True)"
   ]
  },
  {
   "cell_type": "code",
   "execution_count": 19,
   "id": "a871a44e",
   "metadata": {},
   "outputs": [],
   "source": [
    "df.set_index(\"DATE\", inplace = True)"
   ]
  },
  {
   "cell_type": "code",
   "execution_count": 20,
   "id": "cdc98e96",
   "metadata": {},
   "outputs": [],
   "source": [
    "df.to_clipboard()"
   ]
  },
  {
   "cell_type": "markdown",
   "id": "dab58757",
   "metadata": {},
   "source": [
    "Import updated Data"
   ]
  },
  {
   "cell_type": "code",
   "execution_count": 23,
   "id": "41d6ca6b",
   "metadata": {},
   "outputs": [],
   "source": [
    "df=pd.read_excel(\"Losses.xlsx\",sheet_name='Sheet1',index_col='DATE')"
   ]
  },
  {
   "cell_type": "code",
   "execution_count": 25,
   "id": "6d2fea08",
   "metadata": {},
   "outputs": [
    {
     "data": {
      "text/html": [
       "<div>\n",
       "<style scoped>\n",
       "    .dataframe tbody tr th:only-of-type {\n",
       "        vertical-align: middle;\n",
       "    }\n",
       "\n",
       "    .dataframe tbody tr th {\n",
       "        vertical-align: top;\n",
       "    }\n",
       "\n",
       "    .dataframe thead th {\n",
       "        text-align: right;\n",
       "    }\n",
       "</style>\n",
       "<table border=\"1\" class=\"dataframe\">\n",
       "  <thead>\n",
       "    <tr style=\"text-align: right;\">\n",
       "      <th></th>\n",
       "      <th>CAUSE</th>\n",
       "      <th>GROSS INCURRED AMOUNT</th>\n",
       "    </tr>\n",
       "    <tr>\n",
       "      <th>DATE</th>\n",
       "      <th></th>\n",
       "      <th></th>\n",
       "    </tr>\n",
       "  </thead>\n",
       "  <tbody>\n",
       "    <tr>\n",
       "      <th>1999-01-01</th>\n",
       "      <td>WINDSTORM</td>\n",
       "      <td>477.88</td>\n",
       "    </tr>\n",
       "    <tr>\n",
       "      <th>1999-01-01</th>\n",
       "      <td>FIRE</td>\n",
       "      <td>700.00</td>\n",
       "    </tr>\n",
       "    <tr>\n",
       "      <th>1999-01-01</th>\n",
       "      <td>WINDSTORM</td>\n",
       "      <td>99.87</td>\n",
       "    </tr>\n",
       "    <tr>\n",
       "      <th>1999-01-01</th>\n",
       "      <td>WINDSTORM</td>\n",
       "      <td>139.80</td>\n",
       "    </tr>\n",
       "    <tr>\n",
       "      <th>1999-01-01</th>\n",
       "      <td>WINDSTORM</td>\n",
       "      <td>548.66</td>\n",
       "    </tr>\n",
       "  </tbody>\n",
       "</table>\n",
       "</div>"
      ],
      "text/plain": [
       "                CAUSE  GROSS INCURRED AMOUNT\n",
       "DATE                                        \n",
       "1999-01-01  WINDSTORM                 477.88\n",
       "1999-01-01       FIRE                 700.00\n",
       "1999-01-01  WINDSTORM                  99.87\n",
       "1999-01-01  WINDSTORM                 139.80\n",
       "1999-01-01  WINDSTORM                 548.66"
      ]
     },
     "execution_count": 25,
     "metadata": {},
     "output_type": "execute_result"
    }
   ],
   "source": [
    "df.head()"
   ]
  },
  {
   "cell_type": "markdown",
   "id": "9568b5ba",
   "metadata": {},
   "source": [
    "Preprocessing"
   ]
  },
  {
   "cell_type": "code",
   "execution_count": 28,
   "id": "6ca6aa4b",
   "metadata": {},
   "outputs": [],
   "source": [
    "from statsmodels.graphics.tsaplots import plot_acf, plot_pacf\n",
    "from statsmodels.tsa.statespace.varmax import VARMAX\n",
    "from statsmodels.tsa.api import VAR\n",
    "from statsmodels.tsa.stattools import grangercausalitytests, adfuller"
   ]
  },
  {
   "cell_type": "code",
   "execution_count": 29,
   "id": "defc2d23",
   "metadata": {},
   "outputs": [],
   "source": [
    "d={'WINDSTORM': 0,\n",
    " 'FIRE': 1,\n",
    " 'ESCAPE OF WATER': 2,\n",
    " 'SUBSIDENCE     ': 3,\n",
    " 'FLOOD          ': 4,\n",
    " 'ACCIDENTAL DAMAGE': 5,\n",
    " 'THEFT': 6,\n",
    " 'EARTHQUAKE     ': 7}"
   ]
  },
  {
   "cell_type": "code",
   "execution_count": 30,
   "id": "a344f249",
   "metadata": {},
   "outputs": [],
   "source": [
    "df['CAUSE']=df['CAUSE'].map(d)"
   ]
  },
  {
   "cell_type": "code",
   "execution_count": 39,
   "id": "b8283013",
   "metadata": {},
   "outputs": [],
   "source": [
    "ad_fuller_result_1 = adfuller(df['GROSS INCURRED AMOUNT'].diff()[1:])"
   ]
  },
  {
   "cell_type": "code",
   "execution_count": 44,
   "id": "ccdb920d",
   "metadata": {},
   "outputs": [
    {
     "name": "stdout",
     "output_type": "stream",
     "text": [
      "GROSS INCURRED AMOUNT\n",
      "ADF Statistic: -20.689410184199218\n",
      "p-value: 0.0\n",
      "\n",
      "---------------------\n",
      "\n",
      "CAUSE\n",
      "ADF Statistic: -10.695166657819412\n",
      "p-value: 3.640459606781284e-19\n"
     ]
    }
   ],
   "source": [
    "ad_fuller_result_1 = adfuller(df['GROSS INCURRED AMOUNT'])\n",
    "\n",
    "print('GROSS INCURRED AMOUNT')\n",
    "print(f'ADF Statistic: {ad_fuller_result_1[0]}')\n",
    "print(f'p-value: {ad_fuller_result_1[1]}')\n",
    "\n",
    "print('\\n---------------------\\n')\n",
    "\n",
    "ad_fuller_result_2 = adfuller(df['CAUSE'])\n",
    "\n",
    "print('CAUSE')\n",
    "print(f'ADF Statistic: {ad_fuller_result_2[0]}')\n",
    "print(f'p-value: {ad_fuller_result_2[1]}')"
   ]
  },
  {
   "cell_type": "code",
   "execution_count": 42,
   "id": "30ac0cc9",
   "metadata": {},
   "outputs": [
    {
     "name": "stdout",
     "output_type": "stream",
     "text": [
      "GROSS INCURRED AMOUNT causes CAUSE?\n",
      "\n",
      "------------------\n",
      "\n",
      "Granger Causality\n",
      "number of lags (no zero) 1\n",
      "ssr based F test:         F=2.5722  , p=0.1088  , df_denom=47561, df_num=1\n",
      "ssr based chi2 test:   chi2=2.5724  , p=0.1087  , df=1\n",
      "likelihood ratio test: chi2=2.5723  , p=0.1088  , df=1\n",
      "parameter F test:         F=2.5722  , p=0.1088  , df_denom=47561, df_num=1\n",
      "\n",
      "Granger Causality\n",
      "number of lags (no zero) 2\n",
      "ssr based F test:         F=5.4608  , p=0.0043  , df_denom=47558, df_num=2\n",
      "ssr based chi2 test:   chi2=10.9228 , p=0.0042  , df=2\n",
      "likelihood ratio test: chi2=10.9215 , p=0.0043  , df=2\n",
      "parameter F test:         F=5.4608  , p=0.0043  , df_denom=47558, df_num=2\n",
      "\n",
      "Granger Causality\n",
      "number of lags (no zero) 3\n",
      "ssr based F test:         F=3.7567  , p=0.0104  , df_denom=47555, df_num=3\n",
      "ssr based chi2 test:   chi2=11.2717 , p=0.0103  , df=3\n",
      "likelihood ratio test: chi2=11.2703 , p=0.0104  , df=3\n",
      "parameter F test:         F=3.7567  , p=0.0104  , df_denom=47555, df_num=3\n",
      "\n",
      "Granger Causality\n",
      "number of lags (no zero) 4\n",
      "ssr based F test:         F=4.0417  , p=0.0028  , df_denom=47552, df_num=4\n",
      "ssr based chi2 test:   chi2=16.1698 , p=0.0028  , df=4\n",
      "likelihood ratio test: chi2=16.1670 , p=0.0028  , df=4\n",
      "parameter F test:         F=4.0417  , p=0.0028  , df_denom=47552, df_num=4\n",
      "\n",
      "CAUSE causes GROSS INCURRED AMOUNT?\n",
      "\n",
      "------------------\n",
      "\n",
      "Granger Causality\n",
      "number of lags (no zero) 1\n",
      "ssr based F test:         F=4.4225  , p=0.0355  , df_denom=47561, df_num=1\n",
      "ssr based chi2 test:   chi2=4.4228  , p=0.0355  , df=1\n",
      "likelihood ratio test: chi2=4.4226  , p=0.0355  , df=1\n",
      "parameter F test:         F=4.4225  , p=0.0355  , df_denom=47561, df_num=1\n",
      "\n",
      "Granger Causality\n",
      "number of lags (no zero) 2\n",
      "ssr based F test:         F=5.6817  , p=0.0034  , df_denom=47558, df_num=2\n",
      "ssr based chi2 test:   chi2=11.3646 , p=0.0034  , df=2\n",
      "likelihood ratio test: chi2=11.3633 , p=0.0034  , df=2\n",
      "parameter F test:         F=5.6817  , p=0.0034  , df_denom=47558, df_num=2\n",
      "\n",
      "Granger Causality\n",
      "number of lags (no zero) 3\n",
      "ssr based F test:         F=4.0163  , p=0.0072  , df_denom=47555, df_num=3\n",
      "ssr based chi2 test:   chi2=12.0506 , p=0.0072  , df=3\n",
      "likelihood ratio test: chi2=12.0491 , p=0.0072  , df=3\n",
      "parameter F test:         F=4.0163  , p=0.0072  , df_denom=47555, df_num=3\n",
      "\n",
      "Granger Causality\n",
      "number of lags (no zero) 4\n",
      "ssr based F test:         F=3.0095  , p=0.0171  , df_denom=47552, df_num=4\n",
      "ssr based chi2 test:   chi2=12.0402 , p=0.0171  , df=4\n",
      "likelihood ratio test: chi2=12.0387 , p=0.0171  , df=4\n",
      "parameter F test:         F=3.0095  , p=0.0171  , df_denom=47552, df_num=4\n"
     ]
    }
   ],
   "source": [
    "print('GROSS INCURRED AMOUNT causes CAUSE?\\n')\n",
    "print('------------------')\n",
    "granger_1 = grangercausalitytests(df[['CAUSE', 'GROSS INCURRED AMOUNT']], 4)\n",
    "\n",
    "print('\\nCAUSE causes GROSS INCURRED AMOUNT?\\n')\n",
    "print('------------------')\n",
    "granger_2 = grangercausalitytests(df[['GROSS INCURRED AMOUNT', 'CAUSE']], 4)"
   ]
  },
  {
   "cell_type": "code",
   "execution_count": 46,
   "id": "9d28b853",
   "metadata": {},
   "outputs": [],
   "source": [
    "train_df=df[:-12]\n",
    "test_df=df[-12:]"
   ]
  },
  {
   "cell_type": "code",
   "execution_count": 47,
   "id": "9d90cf01",
   "metadata": {},
   "outputs": [
    {
     "name": "stderr",
     "output_type": "stream",
     "text": [
      "C:\\Users\\Rumit\\AppData\\Local\\Programs\\Python\\Python310\\lib\\site-packages\\statsmodels\\tsa\\base\\tsa_model.py:471: ValueWarning: A date index has been provided, but it has no associated frequency information and so will be ignored when e.g. forecasting.\n",
      "  self._init_dates(dates, freq)\n"
     ]
    }
   ],
   "source": [
    "model = VAR(train_df)"
   ]
  },
  {
   "cell_type": "code",
   "execution_count": 51,
   "id": "838197f3",
   "metadata": {},
   "outputs": [
    {
     "name": "stdout",
     "output_type": "stream",
     "text": [
      " VAR Order Selection (* highlights the minimums)  \n",
      "==================================================\n",
      "       AIC         BIC         FPE         HQIC   \n",
      "--------------------------------------------------\n",
      "0        18.17       18.17   7.816e+07       18.17\n",
      "1        18.03       18.03   6.743e+07       18.03\n",
      "2        17.98       17.98   6.440e+07       17.98\n",
      "3        17.95       17.95   6.257e+07       17.95\n",
      "4        17.93       17.93   6.129e+07       17.93\n",
      "5        17.92       17.92   6.036e+07       17.92\n",
      "6        17.90       17.91   5.964e+07       17.91\n",
      "7        17.89       17.90   5.907e+07       17.90\n",
      "8        17.89       17.89   5.867e+07       17.89\n",
      "9        17.88       17.89   5.831e+07       17.88\n",
      "10       17.88       17.88   5.803e+07       17.88\n",
      "11       17.87       17.88   5.789e+07       17.88\n",
      "12       17.87       17.88   5.770e+07       17.87\n",
      "13       17.87       17.88   5.755e+07       17.87\n",
      "14       17.87       17.88   5.743e+07       17.87\n",
      "15       17.86       17.87   5.726e+07       17.87\n",
      "16       17.86       17.87   5.716e+07       17.87\n",
      "17       17.86       17.87   5.710e+07       17.86\n",
      "18       17.86       17.87   5.706e+07       17.86\n",
      "19       17.86       17.87   5.701e+07       17.86\n",
      "20      17.86*      17.87*  5.696e+07*      17.86*\n",
      "--------------------------------------------------\n"
     ]
    }
   ],
   "source": [
    "sorted_order=model.select_order(maxlags=20)\n",
    "print(sorted_order.summary())"
   ]
  },
  {
   "cell_type": "code",
   "execution_count": 52,
   "id": "c754c3a4",
   "metadata": {},
   "outputs": [
    {
     "name": "stderr",
     "output_type": "stream",
     "text": [
      "C:\\Users\\Rumit\\AppData\\Local\\Programs\\Python\\Python310\\lib\\site-packages\\statsmodels\\tsa\\base\\tsa_model.py:471: ValueWarning: A date index has been provided, but it has no associated frequency information and so will be ignored when e.g. forecasting.\n",
      "  self._init_dates(dates, freq)\n"
     ]
    },
    {
     "name": "stdout",
     "output_type": "stream",
     "text": [
      "                                   Statespace Model Results                                   \n",
      "==============================================================================================\n",
      "Dep. Variable:     ['CAUSE', 'GROSS INCURRED AMOUNT']   No. Observations:                47553\n",
      "Model:                                         VAR(4)   Log Likelihood             -561283.176\n",
      "                                          + intercept   AIC                        1122608.352\n",
      "Date:                                Wed, 26 Apr 2023   BIC                        1122792.514\n",
      "Time:                                        22:06:52   HQIC                       1122666.175\n",
      "Sample:                                             0                                         \n",
      "                                              - 47553                                         \n",
      "Covariance Type:                                  opg                                         \n",
      "=======================================================================================\n",
      "Ljung-Box (L1) (Q):            13.26, 0.06   Jarque-Bera (JB):   2731.66, 1406251783.99\n",
      "Prob(Q):                        0.00, 0.81   Prob(JB):                       0.00, 0.00\n",
      "Heteroskedasticity (H):         0.82, 1.02   Skew:                         -0.51, 20.80\n",
      "Prob(H) (two-sided):            0.00, 0.27   Kurtosis:                     2.43, 844.43\n",
      "                                 Results for equation CAUSE                                 \n",
      "============================================================================================\n",
      "                               coef    std err          z      P>|z|      [0.025      0.975]\n",
      "--------------------------------------------------------------------------------------------\n",
      "intercept                    1.3210      0.028     47.875      0.000       1.267       1.375\n",
      "L1.CAUSE                     0.2122      0.005     45.544      0.000       0.203       0.221\n",
      "L1.GROSS INCURRED AMOUNT  -1.89e-07   2.49e-06     -0.076      0.939   -5.07e-06    4.69e-06\n",
      "L2.CAUSE                     0.1404      0.004     31.245      0.000       0.132       0.149\n",
      "L2.GROSS INCURRED AMOUNT   5.28e-06    1.9e-06      2.773      0.006    1.55e-06    9.01e-06\n",
      "L3.CAUSE                     0.1334      0.004     29.704      0.000       0.125       0.142\n",
      "L3.GROSS INCURRED AMOUNT  1.863e-06   2.29e-06      0.814      0.416   -2.62e-06    6.35e-06\n",
      "L4.CAUSE                     0.1390      0.004     30.998      0.000       0.130       0.148\n",
      "L4.GROSS INCURRED AMOUNT  6.493e-06   2.42e-06      2.678      0.007    1.74e-06    1.12e-05\n",
      "                         Results for equation GROSS INCURRED AMOUNT                         \n",
      "============================================================================================\n",
      "                               coef    std err          z      P>|z|      [0.025      0.975]\n",
      "--------------------------------------------------------------------------------------------\n",
      "intercept                  801.7119      1.166    687.548      0.000     799.426     803.997\n",
      "L1.CAUSE                   -26.8427      8.739     -3.072      0.002     -43.970      -9.715\n",
      "L1.GROSS INCURRED AMOUNT     0.1475      0.001    160.631      0.000       0.146       0.149\n",
      "L2.CAUSE                    20.7225      9.749      2.126      0.034       1.615      39.830\n",
      "L2.GROSS INCURRED AMOUNT     0.0329      0.003     12.718      0.000       0.028       0.038\n",
      "L3.CAUSE                     5.3531      9.240      0.579      0.562     -12.758      23.464\n",
      "L3.GROSS INCURRED AMOUNT     0.0264      0.003      8.622      0.000       0.020       0.032\n",
      "L4.CAUSE                     3.8788      8.720      0.445      0.656     -13.213      20.971\n",
      "L4.GROSS INCURRED AMOUNT     0.0353      0.003     13.897      0.000       0.030       0.040\n",
      "                                        Error covariance matrix                                         \n",
      "========================================================================================================\n",
      "                                           coef    std err          z      P>|z|      [0.025      0.975]\n",
      "--------------------------------------------------------------------------------------------------------\n",
      "sqrt.var.CAUSE                           1.9896      0.012    171.449      0.000       1.967       2.012\n",
      "sqrt.cov.CAUSE.GROSS INCURRED AMOUNT  -230.5175     26.256     -8.780      0.000    -281.978    -179.057\n",
      "sqrt.var.GROSS INCURRED AMOUNT        3935.0619      0.974   4041.736      0.000    3933.154    3936.970\n",
      "========================================================================================================\n",
      "\n",
      "Warnings:\n",
      "[1] Covariance matrix calculated using the outer product of gradients (complex-step).\n",
      "[2] Covariance matrix is singular or near-singular, with condition number 4.92e+17. Standard errors may be unstable.\n"
     ]
    }
   ],
   "source": [
    "var_model = VARMAX(train_df, order=(4,0),enforce_stationarity= True)\n",
    "fitted_model = var_model.fit(disp=False)\n",
    "print(fitted_model.summary())"
   ]
  },
  {
   "cell_type": "code",
   "execution_count": 53,
   "id": "b399f8dc",
   "metadata": {},
   "outputs": [
    {
     "name": "stderr",
     "output_type": "stream",
     "text": [
      "C:\\Users\\Rumit\\AppData\\Local\\Programs\\Python\\Python310\\lib\\site-packages\\statsmodels\\tsa\\base\\tsa_model.py:834: ValueWarning: No supported index is available. Prediction results will be given with an integer index beginning at `start`.\n",
      "  return get_prediction_index(\n"
     ]
    }
   ],
   "source": [
    "n_forecast = 12\n",
    "predict = fitted_model.get_prediction(start=len(train_df),end=len(train_df) + n_forecast-1)\n",
    "predictions=predict.predicted_mean"
   ]
  },
  {
   "cell_type": "code",
   "execution_count": 54,
   "id": "81282b6b",
   "metadata": {},
   "outputs": [
    {
     "data": {
      "text/html": [
       "<div>\n",
       "<style scoped>\n",
       "    .dataframe tbody tr th:only-of-type {\n",
       "        vertical-align: middle;\n",
       "    }\n",
       "\n",
       "    .dataframe tbody tr th {\n",
       "        vertical-align: top;\n",
       "    }\n",
       "\n",
       "    .dataframe thead th {\n",
       "        text-align: right;\n",
       "    }\n",
       "</style>\n",
       "<table border=\"1\" class=\"dataframe\">\n",
       "  <thead>\n",
       "    <tr style=\"text-align: right;\">\n",
       "      <th></th>\n",
       "      <th>Causes</th>\n",
       "      <th>Gross</th>\n",
       "    </tr>\n",
       "  </thead>\n",
       "  <tbody>\n",
       "    <tr>\n",
       "      <th>47553</th>\n",
       "      <td>3.900453</td>\n",
       "      <td>904.763608</td>\n",
       "    </tr>\n",
       "    <tr>\n",
       "      <th>47554</th>\n",
       "      <td>3.688894</td>\n",
       "      <td>1049.639541</td>\n",
       "    </tr>\n",
       "    <tr>\n",
       "      <th>47555</th>\n",
       "      <td>3.477792</td>\n",
       "      <td>1090.334875</td>\n",
       "    </tr>\n",
       "    <tr>\n",
       "      <th>47556</th>\n",
       "      <td>3.802650</td>\n",
       "      <td>1060.537626</td>\n",
       "    </tr>\n",
       "    <tr>\n",
       "      <th>47557</th>\n",
       "      <td>3.664223</td>\n",
       "      <td>1058.471641</td>\n",
       "    </tr>\n",
       "    <tr>\n",
       "      <th>47558</th>\n",
       "      <td>3.623744</td>\n",
       "      <td>1071.872050</td>\n",
       "    </tr>\n",
       "    <tr>\n",
       "      <th>47559</th>\n",
       "      <td>3.609906</td>\n",
       "      <td>1073.569398</td>\n",
       "    </tr>\n",
       "    <tr>\n",
       "      <th>47560</th>\n",
       "      <td>3.627853</td>\n",
       "      <td>1073.205454</td>\n",
       "    </tr>\n",
       "    <tr>\n",
       "      <th>47561</th>\n",
       "      <td>3.605093</td>\n",
       "      <td>1071.966006</td>\n",
       "    </tr>\n",
       "    <tr>\n",
       "      <th>47562</th>\n",
       "      <td>3.595397</td>\n",
       "      <td>1073.040723</td>\n",
       "    </tr>\n",
       "    <tr>\n",
       "      <th>47563</th>\n",
       "      <td>3.590618</td>\n",
       "      <td>1073.039856</td>\n",
       "    </tr>\n",
       "    <tr>\n",
       "      <th>47564</th>\n",
       "      <td>3.587701</td>\n",
       "      <td>1072.904637</td>\n",
       "    </tr>\n",
       "  </tbody>\n",
       "</table>\n",
       "</div>"
      ],
      "text/plain": [
       "         Causes        Gross\n",
       "47553  3.900453   904.763608\n",
       "47554  3.688894  1049.639541\n",
       "47555  3.477792  1090.334875\n",
       "47556  3.802650  1060.537626\n",
       "47557  3.664223  1058.471641\n",
       "47558  3.623744  1071.872050\n",
       "47559  3.609906  1073.569398\n",
       "47560  3.627853  1073.205454\n",
       "47561  3.605093  1071.966006\n",
       "47562  3.595397  1073.040723\n",
       "47563  3.590618  1073.039856\n",
       "47564  3.587701  1072.904637"
      ]
     },
     "execution_count": 54,
     "metadata": {},
     "output_type": "execute_result"
    }
   ],
   "source": [
    "predictions.columns=['Causes','Gross']\n",
    "predictions"
   ]
  },
  {
   "cell_type": "code",
   "execution_count": 64,
   "id": "e3325805",
   "metadata": {},
   "outputs": [
    {
     "data": {
      "text/html": [
       "<div>\n",
       "<style scoped>\n",
       "    .dataframe tbody tr th:only-of-type {\n",
       "        vertical-align: middle;\n",
       "    }\n",
       "\n",
       "    .dataframe tbody tr th {\n",
       "        vertical-align: top;\n",
       "    }\n",
       "\n",
       "    .dataframe thead th {\n",
       "        text-align: right;\n",
       "    }\n",
       "</style>\n",
       "<table border=\"1\" class=\"dataframe\">\n",
       "  <thead>\n",
       "    <tr style=\"text-align: right;\">\n",
       "      <th></th>\n",
       "      <th>CAUSE</th>\n",
       "      <th>GROSS INCURRED AMOUNT</th>\n",
       "    </tr>\n",
       "    <tr>\n",
       "      <th>DATE</th>\n",
       "      <th></th>\n",
       "      <th></th>\n",
       "    </tr>\n",
       "  </thead>\n",
       "  <tbody>\n",
       "    <tr>\n",
       "      <th>2007-12-27</th>\n",
       "      <td>1</td>\n",
       "      <td>2251.0</td>\n",
       "    </tr>\n",
       "    <tr>\n",
       "      <th>2007-12-27</th>\n",
       "      <td>5</td>\n",
       "      <td>461.0</td>\n",
       "    </tr>\n",
       "    <tr>\n",
       "      <th>2007-12-28</th>\n",
       "      <td>4</td>\n",
       "      <td>1051.0</td>\n",
       "    </tr>\n",
       "    <tr>\n",
       "      <th>2007-12-28</th>\n",
       "      <td>1</td>\n",
       "      <td>2251.0</td>\n",
       "    </tr>\n",
       "    <tr>\n",
       "      <th>2007-12-28</th>\n",
       "      <td>5</td>\n",
       "      <td>461.0</td>\n",
       "    </tr>\n",
       "    <tr>\n",
       "      <th>2007-12-28</th>\n",
       "      <td>0</td>\n",
       "      <td>901.0</td>\n",
       "    </tr>\n",
       "    <tr>\n",
       "      <th>2007-12-28</th>\n",
       "      <td>6</td>\n",
       "      <td>1151.0</td>\n",
       "    </tr>\n",
       "    <tr>\n",
       "      <th>2007-12-28</th>\n",
       "      <td>4</td>\n",
       "      <td>1051.0</td>\n",
       "    </tr>\n",
       "    <tr>\n",
       "      <th>2007-12-29</th>\n",
       "      <td>5</td>\n",
       "      <td>461.0</td>\n",
       "    </tr>\n",
       "    <tr>\n",
       "      <th>2007-12-29</th>\n",
       "      <td>4</td>\n",
       "      <td>1051.0</td>\n",
       "    </tr>\n",
       "    <tr>\n",
       "      <th>2007-12-29</th>\n",
       "      <td>4</td>\n",
       "      <td>1051.0</td>\n",
       "    </tr>\n",
       "    <tr>\n",
       "      <th>2007-12-29</th>\n",
       "      <td>5</td>\n",
       "      <td>461.0</td>\n",
       "    </tr>\n",
       "  </tbody>\n",
       "</table>\n",
       "</div>"
      ],
      "text/plain": [
       "            CAUSE  GROSS INCURRED AMOUNT\n",
       "DATE                                    \n",
       "2007-12-27      1                 2251.0\n",
       "2007-12-27      5                  461.0\n",
       "2007-12-28      4                 1051.0\n",
       "2007-12-28      1                 2251.0\n",
       "2007-12-28      5                  461.0\n",
       "2007-12-28      0                  901.0\n",
       "2007-12-28      6                 1151.0\n",
       "2007-12-28      4                 1051.0\n",
       "2007-12-29      5                  461.0\n",
       "2007-12-29      4                 1051.0\n",
       "2007-12-29      4                 1051.0\n",
       "2007-12-29      5                  461.0"
      ]
     },
     "execution_count": 64,
     "metadata": {},
     "output_type": "execute_result"
    }
   ],
   "source": [
    "test_df"
   ]
  },
  {
   "cell_type": "code",
   "execution_count": 70,
   "id": "66ed75e3",
   "metadata": {},
   "outputs": [
    {
     "name": "stdout",
     "output_type": "stream",
     "text": [
      "Mean value of CAUSE is : 3.6666666666666665. Root Mean Squared Error is :1.8995106277703833\n",
      "Mean value of Gross is : 1050.1666666666667. Root Mean Squared Error is :627.0920534008175\n"
     ]
    }
   ],
   "source": [
    "from sklearn.metrics import mean_squared_error\n",
    "import math \n",
    "from statistics import mean\n",
    "\n",
    "CAUSE=math.sqrt(mean_squared_error(predictions['Causes'],test_df['CAUSE']))\n",
    "print('Mean value of CAUSE is : {}. Root Mean Squared Error is :{}'.format(mean(test_df['CAUSE']),CAUSE))\n",
    "\n",
    "Gross=math.sqrt(mean_squared_error(predictions['Gross'],test_df['GROSS INCURRED AMOUNT']))\n",
    "print('Mean value of Gross is : {}. Root Mean Squared Error is :{}'.format(mean(test_df['GROSS INCURRED AMOUNT']),Gross))"
   ]
  },
  {
   "cell_type": "code",
   "execution_count": null,
   "id": "14f49cf8",
   "metadata": {},
   "outputs": [],
   "source": []
  }
 ],
 "metadata": {
  "kernelspec": {
   "display_name": "Python 3 (ipykernel)",
   "language": "python",
   "name": "python3"
  },
  "language_info": {
   "codemirror_mode": {
    "name": "ipython",
    "version": 3
   },
   "file_extension": ".py",
   "mimetype": "text/x-python",
   "name": "python",
   "nbconvert_exporter": "python",
   "pygments_lexer": "ipython3",
   "version": "3.10.4"
  }
 },
 "nbformat": 4,
 "nbformat_minor": 5
}
